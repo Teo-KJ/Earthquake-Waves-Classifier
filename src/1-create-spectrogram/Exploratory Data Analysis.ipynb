{
 "cells": [
  {
   "cell_type": "code",
   "execution_count": 1,
   "id": "e63e641c",
   "metadata": {},
   "outputs": [],
   "source": [
    "import os\n",
    "import sys\n",
    "import time\n",
    "from pathlib import Path\n",
    "\n",
    "import h5py\n",
    "import matplotlib\n",
    "import matplotlib.pyplot as plt\n",
    "import seaborn as sb\n",
    "import numpy as np\n",
    "import pandas as pd\n",
    "from joblib import Parallel, delayed\n",
    "from PIL import Image\n",
    "\n",
    "from col_dtypes import ColDataTypes"
   ]
  },
  {
   "cell_type": "code",
   "execution_count": 2,
   "id": "e13ba8dc",
   "metadata": {},
   "outputs": [
    {
     "name": "stdout",
     "output_type": "stream",
     "text": [
      "Analysing chunk 4\n"
     ]
    }
   ],
   "source": [
    "data_folder = \"../../data/\" # root data folder\n",
    "dpi = 50 # spectrogram image resolution\n",
    "\n",
    "chunk_id = 4 # chunk 1 is noise, chunks 2-6 are earthquake signals\n",
    "assert chunk_id > 0 and chunk_id <= 6\n",
    "\n",
    "print(f'Analysing chunk {chunk_id}')"
   ]
  },
  {
   "cell_type": "code",
   "execution_count": 3,
   "id": "a73710e5",
   "metadata": {},
   "outputs": [
    {
     "name": "stdout",
     "output_type": "stream",
     "text": [
      "Index(['network_code', 'receiver_code', 'receiver_type', 'receiver_latitude',\n",
      "       'receiver_longitude', 'receiver_elevation_m', 'p_arrival_sample',\n",
      "       'p_status', 'p_weight', 'p_travel_sec', 's_arrival_sample', 's_status',\n",
      "       's_weight', 'source_id', 'source_origin_time',\n",
      "       'source_origin_uncertainty_sec', 'source_latitude', 'source_longitude',\n",
      "       'source_error_sec', 'source_gap_deg',\n",
      "       'source_horizontal_uncertainty_km', 'source_depth_km',\n",
      "       'source_depth_uncertainty_km', 'source_magnitude',\n",
      "       'source_magnitude_type', 'source_magnitude_author',\n",
      "       'source_mechanism_strike_dip_rake', 'source_distance_deg',\n",
      "       'source_distance_km', 'back_azimuth_deg', 'snr_db', 'coda_end_sample',\n",
      "       'trace_start_time', 'trace_category', 'trace_name'],\n",
      "      dtype='object')\n",
      "(200000, 35)\n"
     ]
    },
    {
     "data": {
      "text/html": [
       "<div>\n",
       "<style scoped>\n",
       "    .dataframe tbody tr th:only-of-type {\n",
       "        vertical-align: middle;\n",
       "    }\n",
       "\n",
       "    .dataframe tbody tr th {\n",
       "        vertical-align: top;\n",
       "    }\n",
       "\n",
       "    .dataframe thead th {\n",
       "        text-align: right;\n",
       "    }\n",
       "</style>\n",
       "<table border=\"1\" class=\"dataframe\">\n",
       "  <thead>\n",
       "    <tr style=\"text-align: right;\">\n",
       "      <th></th>\n",
       "      <th>network_code</th>\n",
       "      <th>receiver_code</th>\n",
       "      <th>receiver_type</th>\n",
       "      <th>receiver_latitude</th>\n",
       "      <th>receiver_longitude</th>\n",
       "      <th>receiver_elevation_m</th>\n",
       "      <th>p_arrival_sample</th>\n",
       "      <th>p_status</th>\n",
       "      <th>p_weight</th>\n",
       "      <th>p_travel_sec</th>\n",
       "      <th>...</th>\n",
       "      <th>source_magnitude_author</th>\n",
       "      <th>source_mechanism_strike_dip_rake</th>\n",
       "      <th>source_distance_deg</th>\n",
       "      <th>source_distance_km</th>\n",
       "      <th>back_azimuth_deg</th>\n",
       "      <th>snr_db</th>\n",
       "      <th>coda_end_sample</th>\n",
       "      <th>trace_start_time</th>\n",
       "      <th>trace_category</th>\n",
       "      <th>trace_name</th>\n",
       "    </tr>\n",
       "  </thead>\n",
       "  <tbody>\n",
       "    <tr>\n",
       "      <th>0</th>\n",
       "      <td>AZ</td>\n",
       "      <td>CPE</td>\n",
       "      <td>HH</td>\n",
       "      <td>32.8889</td>\n",
       "      <td>-117.1051</td>\n",
       "      <td>150.0</td>\n",
       "      <td>400.0</td>\n",
       "      <td>manual</td>\n",
       "      <td>0.52</td>\n",
       "      <td>17.830000</td>\n",
       "      <td>...</td>\n",
       "      <td>CI</td>\n",
       "      <td>None</td>\n",
       "      <td>0.9927</td>\n",
       "      <td>110.40</td>\n",
       "      <td>100.2</td>\n",
       "      <td>[ 7.19999981 10.60000038  3.70000005]</td>\n",
       "      <td>[[3199.]]</td>\n",
       "      <td>2012-11-16 01:44:17.540</td>\n",
       "      <td>earthquake_local</td>\n",
       "      <td>CPE.AZ_20121116014416_EV</td>\n",
       "    </tr>\n",
       "    <tr>\n",
       "      <th>1</th>\n",
       "      <td>AZ</td>\n",
       "      <td>CPE</td>\n",
       "      <td>HH</td>\n",
       "      <td>32.8889</td>\n",
       "      <td>-117.1051</td>\n",
       "      <td>150.0</td>\n",
       "      <td>500.0</td>\n",
       "      <td>manual</td>\n",
       "      <td>0.60</td>\n",
       "      <td>12.250000</td>\n",
       "      <td>...</td>\n",
       "      <td>CI</td>\n",
       "      <td>None</td>\n",
       "      <td>0.6720</td>\n",
       "      <td>74.73</td>\n",
       "      <td>79.0</td>\n",
       "      <td>[8.5        7.30000019 3.20000005]</td>\n",
       "      <td>[[3199.]]</td>\n",
       "      <td>2012-11-16 09:37:27.700</td>\n",
       "      <td>earthquake_local</td>\n",
       "      <td>CPE.AZ_20121116093726_EV</td>\n",
       "    </tr>\n",
       "    <tr>\n",
       "      <th>2</th>\n",
       "      <td>AZ</td>\n",
       "      <td>CPE</td>\n",
       "      <td>HH</td>\n",
       "      <td>32.8889</td>\n",
       "      <td>-117.1051</td>\n",
       "      <td>150.0</td>\n",
       "      <td>700.0</td>\n",
       "      <td>automatic</td>\n",
       "      <td>0.96</td>\n",
       "      <td>23.530001</td>\n",
       "      <td>...</td>\n",
       "      <td>None</td>\n",
       "      <td>None</td>\n",
       "      <td>1.3120</td>\n",
       "      <td>145.63</td>\n",
       "      <td>84.9</td>\n",
       "      <td>[19.39999962 18.89999962 12.5       ]</td>\n",
       "      <td>[[3672.]]</td>\n",
       "      <td>2012-11-16 16:33:33.670</td>\n",
       "      <td>earthquake_local</td>\n",
       "      <td>CPE.AZ_20121116163333_EV</td>\n",
       "    </tr>\n",
       "    <tr>\n",
       "      <th>3</th>\n",
       "      <td>AZ</td>\n",
       "      <td>CPE</td>\n",
       "      <td>HH</td>\n",
       "      <td>32.8889</td>\n",
       "      <td>-117.1051</td>\n",
       "      <td>150.0</td>\n",
       "      <td>1000.0</td>\n",
       "      <td>automatic</td>\n",
       "      <td>0.00</td>\n",
       "      <td>21.959999</td>\n",
       "      <td>...</td>\n",
       "      <td>None</td>\n",
       "      <td>None</td>\n",
       "      <td>1.2240</td>\n",
       "      <td>135.86</td>\n",
       "      <td>30.6</td>\n",
       "      <td>[24.5        24.79999924 23.70000076]</td>\n",
       "      <td>[[3598.]]</td>\n",
       "      <td>2012-11-16 19:14:24.390</td>\n",
       "      <td>earthquake_local</td>\n",
       "      <td>CPE.AZ_20121116191424_EV</td>\n",
       "    </tr>\n",
       "    <tr>\n",
       "      <th>4</th>\n",
       "      <td>AZ</td>\n",
       "      <td>CPE</td>\n",
       "      <td>HH</td>\n",
       "      <td>32.8889</td>\n",
       "      <td>-117.1051</td>\n",
       "      <td>150.0</td>\n",
       "      <td>400.0</td>\n",
       "      <td>manual</td>\n",
       "      <td>0.59</td>\n",
       "      <td>14.530000</td>\n",
       "      <td>...</td>\n",
       "      <td>CI</td>\n",
       "      <td>None</td>\n",
       "      <td>0.8017</td>\n",
       "      <td>89.16</td>\n",
       "      <td>63.8</td>\n",
       "      <td>[19.5        14.80000019 11.30000019]</td>\n",
       "      <td>[[3199.]]</td>\n",
       "      <td>2012-11-18 12:04:16.490</td>\n",
       "      <td>earthquake_local</td>\n",
       "      <td>CPE.AZ_20121118120415_EV</td>\n",
       "    </tr>\n",
       "  </tbody>\n",
       "</table>\n",
       "<p>5 rows × 35 columns</p>\n",
       "</div>"
      ],
      "text/plain": [
       "  network_code receiver_code receiver_type  receiver_latitude  \\\n",
       "0           AZ           CPE            HH            32.8889   \n",
       "1           AZ           CPE            HH            32.8889   \n",
       "2           AZ           CPE            HH            32.8889   \n",
       "3           AZ           CPE            HH            32.8889   \n",
       "4           AZ           CPE            HH            32.8889   \n",
       "\n",
       "   receiver_longitude  receiver_elevation_m  p_arrival_sample   p_status  \\\n",
       "0           -117.1051                 150.0             400.0     manual   \n",
       "1           -117.1051                 150.0             500.0     manual   \n",
       "2           -117.1051                 150.0             700.0  automatic   \n",
       "3           -117.1051                 150.0            1000.0  automatic   \n",
       "4           -117.1051                 150.0             400.0     manual   \n",
       "\n",
       "   p_weight  p_travel_sec  ...  source_magnitude_author  \\\n",
       "0      0.52     17.830000  ...                       CI   \n",
       "1      0.60     12.250000  ...                       CI   \n",
       "2      0.96     23.530001  ...                     None   \n",
       "3      0.00     21.959999  ...                     None   \n",
       "4      0.59     14.530000  ...                       CI   \n",
       "\n",
       "  source_mechanism_strike_dip_rake  source_distance_deg source_distance_km  \\\n",
       "0                             None               0.9927             110.40   \n",
       "1                             None               0.6720              74.73   \n",
       "2                             None               1.3120             145.63   \n",
       "3                             None               1.2240             135.86   \n",
       "4                             None               0.8017              89.16   \n",
       "\n",
       "  back_azimuth_deg                                 snr_db  coda_end_sample  \\\n",
       "0            100.2  [ 7.19999981 10.60000038  3.70000005]        [[3199.]]   \n",
       "1             79.0     [8.5        7.30000019 3.20000005]        [[3199.]]   \n",
       "2             84.9  [19.39999962 18.89999962 12.5       ]        [[3672.]]   \n",
       "3             30.6  [24.5        24.79999924 23.70000076]        [[3598.]]   \n",
       "4             63.8  [19.5        14.80000019 11.30000019]        [[3199.]]   \n",
       "\n",
       "         trace_start_time    trace_category                trace_name  \n",
       "0 2012-11-16 01:44:17.540  earthquake_local  CPE.AZ_20121116014416_EV  \n",
       "1 2012-11-16 09:37:27.700  earthquake_local  CPE.AZ_20121116093726_EV  \n",
       "2 2012-11-16 16:33:33.670  earthquake_local  CPE.AZ_20121116163333_EV  \n",
       "3 2012-11-16 19:14:24.390  earthquake_local  CPE.AZ_20121116191424_EV  \n",
       "4 2012-11-18 12:04:16.490  earthquake_local  CPE.AZ_20121118120415_EV  \n",
       "\n",
       "[5 rows x 35 columns]"
      ]
     },
     "execution_count": 3,
     "metadata": {},
     "output_type": "execute_result"
    }
   ],
   "source": [
    "col_dtypes = ColDataTypes()\n",
    "dtypes = col_dtypes.get_initial_dtype_dict()\n",
    "date_cols = col_dtypes.get_date_cols()\n",
    "\n",
    "csv_pth = os.path.join(data_folder, f'raw/chunk{chunk_id}/chunk{chunk_id}.csv') # chunk metadata\n",
    "\n",
    "chunk = pd.read_csv(csv_pth, dtype=dtypes, parse_dates=date_cols, encoding='utf-8')\n",
    "\n",
    "processed_csv_save_pth = os.path.join(data_folder, f'raw/chunk{chunk_id}/chunk{chunk_id}_processed.csv') # processed metadata save pth\n",
    "processedChunk = pd.read_csv(processed_csv_save_pth, dtype=dtypes, parse_dates=date_cols, encoding='utf-8')\n",
    "\n",
    "print(chunk.columns)\n",
    "print(chunk.shape)\n",
    "chunk.head()"
   ]
  },
  {
   "cell_type": "markdown",
   "id": "65bb83df",
   "metadata": {},
   "source": [
    "# Understanding the Processed Data\n",
    "Processed Data has been filtered to obtain the P and S-waves"
   ]
  },
  {
   "cell_type": "code",
   "execution_count": 4,
   "id": "8140a5bf",
   "metadata": {},
   "outputs": [
    {
     "name": "stdout",
     "output_type": "stream",
     "text": [
      "Index(['network_code', 'receiver_code', 'receiver_type', 'receiver_latitude',\n",
      "       'receiver_longitude', 'receiver_elevation_m', 'p_arrival_sample',\n",
      "       'p_status', 'p_weight', 'p_travel_sec', 's_arrival_sample', 's_status',\n",
      "       's_weight', 'source_id', 'source_origin_time',\n",
      "       'source_origin_uncertainty_sec', 'source_latitude', 'source_longitude',\n",
      "       'source_error_sec', 'source_gap_deg',\n",
      "       'source_horizontal_uncertainty_km', 'source_depth_km',\n",
      "       'source_depth_uncertainty_km', 'source_magnitude',\n",
      "       'source_magnitude_type', 'source_magnitude_author',\n",
      "       'source_mechanism_strike_dip_rake', 'source_distance_deg',\n",
      "       'source_distance_km', 'back_azimuth_deg', 'snr_db', 'coda_end_sample',\n",
      "       'trace_start_time', 'trace_category', 'trace_name', 'same_status?',\n",
      "       'p_duration', 's_duration'],\n",
      "      dtype='object')\n",
      "(81874, 38)\n"
     ]
    },
    {
     "data": {
      "text/html": [
       "<div>\n",
       "<style scoped>\n",
       "    .dataframe tbody tr th:only-of-type {\n",
       "        vertical-align: middle;\n",
       "    }\n",
       "\n",
       "    .dataframe tbody tr th {\n",
       "        vertical-align: top;\n",
       "    }\n",
       "\n",
       "    .dataframe thead th {\n",
       "        text-align: right;\n",
       "    }\n",
       "</style>\n",
       "<table border=\"1\" class=\"dataframe\">\n",
       "  <thead>\n",
       "    <tr style=\"text-align: right;\">\n",
       "      <th></th>\n",
       "      <th>network_code</th>\n",
       "      <th>receiver_code</th>\n",
       "      <th>receiver_type</th>\n",
       "      <th>receiver_latitude</th>\n",
       "      <th>receiver_longitude</th>\n",
       "      <th>receiver_elevation_m</th>\n",
       "      <th>p_arrival_sample</th>\n",
       "      <th>p_status</th>\n",
       "      <th>p_weight</th>\n",
       "      <th>p_travel_sec</th>\n",
       "      <th>...</th>\n",
       "      <th>source_distance_km</th>\n",
       "      <th>back_azimuth_deg</th>\n",
       "      <th>snr_db</th>\n",
       "      <th>coda_end_sample</th>\n",
       "      <th>trace_start_time</th>\n",
       "      <th>trace_category</th>\n",
       "      <th>trace_name</th>\n",
       "      <th>same_status?</th>\n",
       "      <th>p_duration</th>\n",
       "      <th>s_duration</th>\n",
       "    </tr>\n",
       "  </thead>\n",
       "  <tbody>\n",
       "    <tr>\n",
       "      <th>0</th>\n",
       "      <td>AZ</td>\n",
       "      <td>CPE</td>\n",
       "      <td>HH</td>\n",
       "      <td>32.8889</td>\n",
       "      <td>-117.1051</td>\n",
       "      <td>150.0</td>\n",
       "      <td>400.0</td>\n",
       "      <td>manual</td>\n",
       "      <td>0.52</td>\n",
       "      <td>17.830000</td>\n",
       "      <td>...</td>\n",
       "      <td>110.40</td>\n",
       "      <td>100.2</td>\n",
       "      <td>[ 7.19999981 10.60000038  3.70000005]</td>\n",
       "      <td>3199</td>\n",
       "      <td>2012-11-16 01:44:17.540</td>\n",
       "      <td>earthquake_local</td>\n",
       "      <td>CPE.AZ_20121116014416_EV</td>\n",
       "      <td>True</td>\n",
       "      <td>1299.0</td>\n",
       "      <td>1500.0</td>\n",
       "    </tr>\n",
       "    <tr>\n",
       "      <th>1</th>\n",
       "      <td>AZ</td>\n",
       "      <td>CPE</td>\n",
       "      <td>HH</td>\n",
       "      <td>32.8889</td>\n",
       "      <td>-117.1051</td>\n",
       "      <td>150.0</td>\n",
       "      <td>500.0</td>\n",
       "      <td>manual</td>\n",
       "      <td>0.60</td>\n",
       "      <td>12.250000</td>\n",
       "      <td>...</td>\n",
       "      <td>74.73</td>\n",
       "      <td>79.0</td>\n",
       "      <td>[8.5        7.30000019 3.20000005]</td>\n",
       "      <td>3199</td>\n",
       "      <td>2012-11-16 09:37:27.700</td>\n",
       "      <td>earthquake_local</td>\n",
       "      <td>CPE.AZ_20121116093726_EV</td>\n",
       "      <td>True</td>\n",
       "      <td>894.0</td>\n",
       "      <td>1805.0</td>\n",
       "    </tr>\n",
       "    <tr>\n",
       "      <th>2</th>\n",
       "      <td>AZ</td>\n",
       "      <td>CPE</td>\n",
       "      <td>HH</td>\n",
       "      <td>32.8889</td>\n",
       "      <td>-117.1051</td>\n",
       "      <td>150.0</td>\n",
       "      <td>700.0</td>\n",
       "      <td>automatic</td>\n",
       "      <td>0.96</td>\n",
       "      <td>23.530001</td>\n",
       "      <td>...</td>\n",
       "      <td>145.63</td>\n",
       "      <td>84.9</td>\n",
       "      <td>[19.39999962 18.89999962 12.5       ]</td>\n",
       "      <td>3672</td>\n",
       "      <td>2012-11-16 16:33:33.670</td>\n",
       "      <td>earthquake_local</td>\n",
       "      <td>CPE.AZ_20121116163333_EV</td>\n",
       "      <td>True</td>\n",
       "      <td>1720.0</td>\n",
       "      <td>1252.0</td>\n",
       "    </tr>\n",
       "    <tr>\n",
       "      <th>3</th>\n",
       "      <td>AZ</td>\n",
       "      <td>CPE</td>\n",
       "      <td>HH</td>\n",
       "      <td>32.8889</td>\n",
       "      <td>-117.1051</td>\n",
       "      <td>150.0</td>\n",
       "      <td>1000.0</td>\n",
       "      <td>automatic</td>\n",
       "      <td>0.00</td>\n",
       "      <td>21.959999</td>\n",
       "      <td>...</td>\n",
       "      <td>135.86</td>\n",
       "      <td>30.6</td>\n",
       "      <td>[24.5        24.79999924 23.70000076]</td>\n",
       "      <td>3598</td>\n",
       "      <td>2012-11-16 19:14:24.390</td>\n",
       "      <td>earthquake_local</td>\n",
       "      <td>CPE.AZ_20121116191424_EV</td>\n",
       "      <td>True</td>\n",
       "      <td>1587.0</td>\n",
       "      <td>1011.0</td>\n",
       "    </tr>\n",
       "    <tr>\n",
       "      <th>4</th>\n",
       "      <td>AZ</td>\n",
       "      <td>CPE</td>\n",
       "      <td>HH</td>\n",
       "      <td>32.8889</td>\n",
       "      <td>-117.1051</td>\n",
       "      <td>150.0</td>\n",
       "      <td>400.0</td>\n",
       "      <td>manual</td>\n",
       "      <td>0.59</td>\n",
       "      <td>14.530000</td>\n",
       "      <td>...</td>\n",
       "      <td>89.16</td>\n",
       "      <td>63.8</td>\n",
       "      <td>[19.5        14.80000019 11.30000019]</td>\n",
       "      <td>3199</td>\n",
       "      <td>2012-11-18 12:04:16.490</td>\n",
       "      <td>earthquake_local</td>\n",
       "      <td>CPE.AZ_20121118120415_EV</td>\n",
       "      <td>True</td>\n",
       "      <td>1032.0</td>\n",
       "      <td>1767.0</td>\n",
       "    </tr>\n",
       "  </tbody>\n",
       "</table>\n",
       "<p>5 rows × 38 columns</p>\n",
       "</div>"
      ],
      "text/plain": [
       "  network_code receiver_code receiver_type  receiver_latitude  \\\n",
       "0           AZ           CPE            HH            32.8889   \n",
       "1           AZ           CPE            HH            32.8889   \n",
       "2           AZ           CPE            HH            32.8889   \n",
       "3           AZ           CPE            HH            32.8889   \n",
       "4           AZ           CPE            HH            32.8889   \n",
       "\n",
       "   receiver_longitude  receiver_elevation_m  p_arrival_sample   p_status  \\\n",
       "0           -117.1051                 150.0             400.0     manual   \n",
       "1           -117.1051                 150.0             500.0     manual   \n",
       "2           -117.1051                 150.0             700.0  automatic   \n",
       "3           -117.1051                 150.0            1000.0  automatic   \n",
       "4           -117.1051                 150.0             400.0     manual   \n",
       "\n",
       "   p_weight  p_travel_sec  ...  source_distance_km back_azimuth_deg  \\\n",
       "0      0.52     17.830000  ...              110.40            100.2   \n",
       "1      0.60     12.250000  ...               74.73             79.0   \n",
       "2      0.96     23.530001  ...              145.63             84.9   \n",
       "3      0.00     21.959999  ...              135.86             30.6   \n",
       "4      0.59     14.530000  ...               89.16             63.8   \n",
       "\n",
       "                                  snr_db coda_end_sample  \\\n",
       "0  [ 7.19999981 10.60000038  3.70000005]            3199   \n",
       "1     [8.5        7.30000019 3.20000005]            3199   \n",
       "2  [19.39999962 18.89999962 12.5       ]            3672   \n",
       "3  [24.5        24.79999924 23.70000076]            3598   \n",
       "4  [19.5        14.80000019 11.30000019]            3199   \n",
       "\n",
       "         trace_start_time    trace_category                trace_name  \\\n",
       "0 2012-11-16 01:44:17.540  earthquake_local  CPE.AZ_20121116014416_EV   \n",
       "1 2012-11-16 09:37:27.700  earthquake_local  CPE.AZ_20121116093726_EV   \n",
       "2 2012-11-16 16:33:33.670  earthquake_local  CPE.AZ_20121116163333_EV   \n",
       "3 2012-11-16 19:14:24.390  earthquake_local  CPE.AZ_20121116191424_EV   \n",
       "4 2012-11-18 12:04:16.490  earthquake_local  CPE.AZ_20121118120415_EV   \n",
       "\n",
       "   same_status? p_duration s_duration  \n",
       "0          True     1299.0     1500.0  \n",
       "1          True      894.0     1805.0  \n",
       "2          True     1720.0     1252.0  \n",
       "3          True     1587.0     1011.0  \n",
       "4          True     1032.0     1767.0  \n",
       "\n",
       "[5 rows x 38 columns]"
      ]
     },
     "execution_count": 4,
     "metadata": {},
     "output_type": "execute_result"
    }
   ],
   "source": [
    "print(processedChunk.columns)\n",
    "print(processedChunk.shape)\n",
    "processedChunk.head()"
   ]
  },
  {
   "cell_type": "code",
   "execution_count": 5,
   "id": "9a376927",
   "metadata": {},
   "outputs": [
    {
     "data": {
      "text/plain": [
       "network_code                                object\n",
       "receiver_code                               object\n",
       "receiver_type                               object\n",
       "receiver_latitude                          float64\n",
       "receiver_longitude                         float64\n",
       "receiver_elevation_m                       float64\n",
       "p_arrival_sample                           float64\n",
       "p_status                                    object\n",
       "p_weight                                   float64\n",
       "p_travel_sec                               float64\n",
       "s_arrival_sample                           float64\n",
       "s_status                                    object\n",
       "s_weight                                   float64\n",
       "source_id                                   object\n",
       "source_origin_time                  datetime64[ns]\n",
       "source_origin_uncertainty_sec               object\n",
       "source_latitude                            float64\n",
       "source_longitude                           float64\n",
       "source_error_sec                            object\n",
       "source_gap_deg                              object\n",
       "source_horizontal_uncertainty_km            object\n",
       "source_depth_km                             object\n",
       "source_depth_uncertainty_km                 object\n",
       "source_magnitude                           float64\n",
       "source_magnitude_type                       object\n",
       "source_magnitude_author                     object\n",
       "source_mechanism_strike_dip_rake            object\n",
       "source_distance_deg                        float64\n",
       "source_distance_km                         float64\n",
       "back_azimuth_deg                           float64\n",
       "snr_db                                      object\n",
       "coda_end_sample                             object\n",
       "trace_start_time                    datetime64[ns]\n",
       "trace_category                              object\n",
       "trace_name                                  object\n",
       "same_status?                                  bool\n",
       "p_duration                                 float64\n",
       "s_duration                                 float64\n",
       "dtype: object"
      ]
     },
     "execution_count": 5,
     "metadata": {},
     "output_type": "execute_result"
    }
   ],
   "source": [
    "processedChunk.dtypes"
   ]
  },
  {
   "cell_type": "code",
   "execution_count": 6,
   "id": "16e29b33",
   "metadata": {},
   "outputs": [
    {
     "name": "stdout",
     "output_type": "stream",
     "text": [
      "Columns with NaN values\n",
      "\n",
      "p_weight: True\n",
      "s_weight: True\n",
      "source_origin_uncertainty_sec: True\n",
      "source_error_sec: True\n",
      "source_gap_deg: True\n"
     ]
    }
   ],
   "source": [
    "print('Columns with NaN values\\n')\n",
    "\n",
    "for i in processedChunk.columns:\n",
    "    if processedChunk[i].isnull().values.any() == True:\n",
    "        print(f'{i}:', True)"
   ]
  },
  {
   "cell_type": "code",
   "execution_count": 7,
   "id": "c08efd35",
   "metadata": {},
   "outputs": [
    {
     "name": "stdout",
     "output_type": "stream",
     "text": [
      "Number of data points: 81874\n",
      "Number of unique datapoints for column\n",
      "\n",
      "network_code: 69\n",
      "receiver_code: 460\n",
      "receiver_type: 6 ['HH' 'BH' 'EH' 'HL' 'SH' 'EL']\n",
      "p_status: 3 ['manual' 'automatic' 'autopicker']\n",
      "s_status: 3 ['manual' 'automatic' 'autopicker']\n",
      "source_id: 60263\n",
      "source_magnitude_type: 23 ['ml' 'md' 'mb' 'mh' 'mw' 'mlr' 'mb_lg' 'mn' 'm' 'mlv' 'mwr' 'h' 'ms'\n",
      " 'mww' 'mlg' 'mc' 'mpva' 'mpv' 'mwc' 'mblg' 'mg' 'none' 'mbr']\n",
      "source_magnitude_author: 13 ['CI' 'None' 'LD' 'SE' 'TUL' 'NN' 'UU' 'NC' 'NM' 'UW' 'HV' 'US' 'ISMP']\n",
      "trace_category: 1 ['earthquake_local']\n",
      "trace_name: 81874\n",
      "same_status?: 2 [ True False]\n"
     ]
    }
   ],
   "source": [
    "categoricalVar = ['network_code', 'receiver_code', 'receiver_type', 'p_status', 's_status', 'source_id',\n",
    "                  'source_magnitude_type', 'source_magnitude_author', 'trace_category', 'trace_name',\n",
    "                  'same_status?']\n",
    "\n",
    "print('Number of data points:', len(processedChunk))\n",
    "print('Number of unique datapoints for column\\n')\n",
    "\n",
    "for i in categoricalVar:\n",
    "    numUnique = len(processedChunk[i].unique())\n",
    "    result = f'{i}: ' + str(numUnique)\n",
    "    \n",
    "    if numUnique <= 23:\n",
    "        print(result, processedChunk[i].unique())\n",
    "        \n",
    "    else: print(result)"
   ]
  },
  {
   "cell_type": "code",
   "execution_count": 8,
   "id": "b7585afc",
   "metadata": {
    "scrolled": false
   },
   "outputs": [
    {
     "data": {
      "image/png": "[encoded data removed]",
      "text/plain": [
       "<Figure size 360x360 with 1 Axes>"
      ]
     },
     "metadata": {
      "needs_background": "light"
     },
     "output_type": "display_data"
    },
    {
     "data": {
      "image/png": "[encoded data removed]",
      "text/plain": [
       "<Figure size 360x360 with 1 Axes>"
      ]
     },
     "metadata": {
      "needs_background": "light"
     },
     "output_type": "display_data"
    },
    {
     "data": {
      "image/png": "[encoded data removed]",
      "text/plain": [
       "<Figure size 360x360 with 1 Axes>"
      ]
     },
     "metadata": {
      "needs_background": "light"
     },
     "output_type": "display_data"
    },
    {
     "data": {
      "image/png": "[encoded data removed]",
      "text/plain": [
       "<Figure size 360x360 with 1 Axes>"
      ]
     },
     "metadata": {
      "needs_background": "light"
     },
     "output_type": "display_data"
    },
    {
     "data": {
      "image/png": "[encoded data removed]",
      "text/plain": [
       "<Figure size 360x360 with 1 Axes>"
      ]
     },
     "metadata": {
      "needs_background": "light"
     },
     "output_type": "display_data"
    },
    {
     "data": {
      "image/png": "[encoded data removed]",
      "text/plain": [
       "<Figure size 360x360 with 1 Axes>"
      ]
     },
     "metadata": {
      "needs_background": "light"
     },
     "output_type": "display_data"
    },
    {
     "data": {
      "image/png": "[encoded data removed]",
      "text/plain": [
       "<Figure size 360x360 with 1 Axes>"
      ]
     },
     "metadata": {
      "needs_background": "light"
     },
     "output_type": "display_data"
    },
    {
     "data": {
      "image/png": "[encoded data removed]",
      "text/plain": [
       "<Figure size 360x360 with 1 Axes>"
      ]
     },
     "metadata": {
      "needs_background": "light"
     },
     "output_type": "display_data"
    }
   ],
   "source": [
    "count = 1\n",
    "limit = 8\n",
    "\n",
    "for i in processedChunk.columns.tolist():\n",
    "    if (processedChunk[i].dtypes == 'float64' or processedChunk[i].dtypes == 'object') and processedChunk[i].isnull().values.any() == False and count <= limit and i not in categoricalVar:\n",
    "        sb.displot(data = processedChunk, x = i)\n",
    "        count += 1\n",
    "\n",
    "plt.show()"
   ]
  },
  {
   "cell_type": "code",
   "execution_count": null,
   "id": "bbcbc17b",
   "metadata": {},
   "outputs": [],
   "source": []
  }
 ],
 "metadata": {
  "kernelspec": {
   "display_name": "Python 3",
   "language": "python",
   "name": "python3"
  },
  "language_info": {
   "codemirror_mode": {
    "name": "ipython",
    "version": 3
   },
   "file_extension": ".py",
   "mimetype": "text/x-python",
   "name": "python",
   "nbconvert_exporter": "python",
   "pygments_lexer": "ipython3",
   "version": "3.8.8"
  }
 },
 "nbformat": 4,
 "nbformat_minor": 5
}
